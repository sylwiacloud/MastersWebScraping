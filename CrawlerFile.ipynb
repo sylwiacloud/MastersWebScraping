{
 "cells": [
  {
   "cell_type": "code",
   "execution_count": 1,
   "metadata": {},
   "outputs": [],
   "source": [
    "import requests\n",
    "import csv\n",
    "import scrapy\n",
    "from scrapy import Selector\n",
    "import numpy as np\n",
    "from scrapy.crawler import CrawlerProcess\n",
    "import numpy as np\n",
    "\n",
    "page = 'https://www.findamasters.com/masters-degrees/filters/msc-degrees/united-kingdom/on-campus/full-time/?4jw9Y3hw&Keywords=data'\n",
    "\n",
    "\n",
    "html = requests.get(page).content"
   ]
  },
  {
   "cell_type": "code",
   "execution_count": 2,
   "metadata": {},
   "outputs": [
    {
     "name": "stdout",
     "output_type": "stream",
     "text": [
      "71\n",
      "<class 'int'>\n"
     ]
    }
   ],
   "source": [
    "sel = Selector(text = html)\n",
    "lastPage = sel.css('ul.pagi1ngArea > li.page-item > a.page-link::text')[-1].get()\n",
    "lastPage = int(lastPage)\n",
    "print(lastPage)\n",
    "print(type(lastPage))"
   ]
  },
  {
   "cell_type": "code",
   "execution_count": 3,
   "metadata": {},
   "outputs": [
    {
     "name": "stdout",
     "output_type": "stream",
     "text": [
      "['https://www.findamasters.com/masters-degrees/filters/msc-degrees/united-kingdom/on-campus/full-time/?4jw9Y3hw&Keywords=data', 'https://www.findamasters.com/masters-degrees/filters/msc-degrees/united-kingdom/on-campus/full-time/?4jw9Y3hw&Keywords=data&PG=2', 'https://www.findamasters.com/masters-degrees/filters/msc-degrees/united-kingdom/on-campus/full-time/?4jw9Y3hw&Keywords=data&PG=3', 'https://www.findamasters.com/masters-degrees/filters/msc-degrees/united-kingdom/on-campus/full-time/?4jw9Y3hw&Keywords=data&PG=4', 'https://www.findamasters.com/masters-degrees/filters/msc-degrees/united-kingdom/on-campus/full-time/?4jw9Y3hw&Keywords=data&PG=5', 'https://www.findamasters.com/masters-degrees/filters/msc-degrees/united-kingdom/on-campus/full-time/?4jw9Y3hw&Keywords=data&PG=6', 'https://www.findamasters.com/masters-degrees/filters/msc-degrees/united-kingdom/on-campus/full-time/?4jw9Y3hw&Keywords=data&PG=7', 'https://www.findamasters.com/masters-degrees/filters/msc-degrees/united-kingdom/on-campus/full-time/?4jw9Y3hw&Keywords=data&PG=8', 'https://www.findamasters.com/masters-degrees/filters/msc-degrees/united-kingdom/on-campus/full-time/?4jw9Y3hw&Keywords=data&PG=9', 'https://www.findamasters.com/masters-degrees/filters/msc-degrees/united-kingdom/on-campus/full-time/?4jw9Y3hw&Keywords=data&PG=10', 'https://www.findamasters.com/masters-degrees/filters/msc-degrees/united-kingdom/on-campus/full-time/?4jw9Y3hw&Keywords=data&PG=11', 'https://www.findamasters.com/masters-degrees/filters/msc-degrees/united-kingdom/on-campus/full-time/?4jw9Y3hw&Keywords=data&PG=12', 'https://www.findamasters.com/masters-degrees/filters/msc-degrees/united-kingdom/on-campus/full-time/?4jw9Y3hw&Keywords=data&PG=13', 'https://www.findamasters.com/masters-degrees/filters/msc-degrees/united-kingdom/on-campus/full-time/?4jw9Y3hw&Keywords=data&PG=14', 'https://www.findamasters.com/masters-degrees/filters/msc-degrees/united-kingdom/on-campus/full-time/?4jw9Y3hw&Keywords=data&PG=15', 'https://www.findamasters.com/masters-degrees/filters/msc-degrees/united-kingdom/on-campus/full-time/?4jw9Y3hw&Keywords=data&PG=16', 'https://www.findamasters.com/masters-degrees/filters/msc-degrees/united-kingdom/on-campus/full-time/?4jw9Y3hw&Keywords=data&PG=17', 'https://www.findamasters.com/masters-degrees/filters/msc-degrees/united-kingdom/on-campus/full-time/?4jw9Y3hw&Keywords=data&PG=18', 'https://www.findamasters.com/masters-degrees/filters/msc-degrees/united-kingdom/on-campus/full-time/?4jw9Y3hw&Keywords=data&PG=19', 'https://www.findamasters.com/masters-degrees/filters/msc-degrees/united-kingdom/on-campus/full-time/?4jw9Y3hw&Keywords=data&PG=20', 'https://www.findamasters.com/masters-degrees/filters/msc-degrees/united-kingdom/on-campus/full-time/?4jw9Y3hw&Keywords=data&PG=21', 'https://www.findamasters.com/masters-degrees/filters/msc-degrees/united-kingdom/on-campus/full-time/?4jw9Y3hw&Keywords=data&PG=22', 'https://www.findamasters.com/masters-degrees/filters/msc-degrees/united-kingdom/on-campus/full-time/?4jw9Y3hw&Keywords=data&PG=23', 'https://www.findamasters.com/masters-degrees/filters/msc-degrees/united-kingdom/on-campus/full-time/?4jw9Y3hw&Keywords=data&PG=24', 'https://www.findamasters.com/masters-degrees/filters/msc-degrees/united-kingdom/on-campus/full-time/?4jw9Y3hw&Keywords=data&PG=25', 'https://www.findamasters.com/masters-degrees/filters/msc-degrees/united-kingdom/on-campus/full-time/?4jw9Y3hw&Keywords=data&PG=26', 'https://www.findamasters.com/masters-degrees/filters/msc-degrees/united-kingdom/on-campus/full-time/?4jw9Y3hw&Keywords=data&PG=27', 'https://www.findamasters.com/masters-degrees/filters/msc-degrees/united-kingdom/on-campus/full-time/?4jw9Y3hw&Keywords=data&PG=28', 'https://www.findamasters.com/masters-degrees/filters/msc-degrees/united-kingdom/on-campus/full-time/?4jw9Y3hw&Keywords=data&PG=29', 'https://www.findamasters.com/masters-degrees/filters/msc-degrees/united-kingdom/on-campus/full-time/?4jw9Y3hw&Keywords=data&PG=30', 'https://www.findamasters.com/masters-degrees/filters/msc-degrees/united-kingdom/on-campus/full-time/?4jw9Y3hw&Keywords=data&PG=31', 'https://www.findamasters.com/masters-degrees/filters/msc-degrees/united-kingdom/on-campus/full-time/?4jw9Y3hw&Keywords=data&PG=32', 'https://www.findamasters.com/masters-degrees/filters/msc-degrees/united-kingdom/on-campus/full-time/?4jw9Y3hw&Keywords=data&PG=33', 'https://www.findamasters.com/masters-degrees/filters/msc-degrees/united-kingdom/on-campus/full-time/?4jw9Y3hw&Keywords=data&PG=34', 'https://www.findamasters.com/masters-degrees/filters/msc-degrees/united-kingdom/on-campus/full-time/?4jw9Y3hw&Keywords=data&PG=35', 'https://www.findamasters.com/masters-degrees/filters/msc-degrees/united-kingdom/on-campus/full-time/?4jw9Y3hw&Keywords=data&PG=36', 'https://www.findamasters.com/masters-degrees/filters/msc-degrees/united-kingdom/on-campus/full-time/?4jw9Y3hw&Keywords=data&PG=37', 'https://www.findamasters.com/masters-degrees/filters/msc-degrees/united-kingdom/on-campus/full-time/?4jw9Y3hw&Keywords=data&PG=38', 'https://www.findamasters.com/masters-degrees/filters/msc-degrees/united-kingdom/on-campus/full-time/?4jw9Y3hw&Keywords=data&PG=39', 'https://www.findamasters.com/masters-degrees/filters/msc-degrees/united-kingdom/on-campus/full-time/?4jw9Y3hw&Keywords=data&PG=40', 'https://www.findamasters.com/masters-degrees/filters/msc-degrees/united-kingdom/on-campus/full-time/?4jw9Y3hw&Keywords=data&PG=41', 'https://www.findamasters.com/masters-degrees/filters/msc-degrees/united-kingdom/on-campus/full-time/?4jw9Y3hw&Keywords=data&PG=42', 'https://www.findamasters.com/masters-degrees/filters/msc-degrees/united-kingdom/on-campus/full-time/?4jw9Y3hw&Keywords=data&PG=43', 'https://www.findamasters.com/masters-degrees/filters/msc-degrees/united-kingdom/on-campus/full-time/?4jw9Y3hw&Keywords=data&PG=44', 'https://www.findamasters.com/masters-degrees/filters/msc-degrees/united-kingdom/on-campus/full-time/?4jw9Y3hw&Keywords=data&PG=45', 'https://www.findamasters.com/masters-degrees/filters/msc-degrees/united-kingdom/on-campus/full-time/?4jw9Y3hw&Keywords=data&PG=46', 'https://www.findamasters.com/masters-degrees/filters/msc-degrees/united-kingdom/on-campus/full-time/?4jw9Y3hw&Keywords=data&PG=47', 'https://www.findamasters.com/masters-degrees/filters/msc-degrees/united-kingdom/on-campus/full-time/?4jw9Y3hw&Keywords=data&PG=48', 'https://www.findamasters.com/masters-degrees/filters/msc-degrees/united-kingdom/on-campus/full-time/?4jw9Y3hw&Keywords=data&PG=49', 'https://www.findamasters.com/masters-degrees/filters/msc-degrees/united-kingdom/on-campus/full-time/?4jw9Y3hw&Keywords=data&PG=50', 'https://www.findamasters.com/masters-degrees/filters/msc-degrees/united-kingdom/on-campus/full-time/?4jw9Y3hw&Keywords=data&PG=51', 'https://www.findamasters.com/masters-degrees/filters/msc-degrees/united-kingdom/on-campus/full-time/?4jw9Y3hw&Keywords=data&PG=52', 'https://www.findamasters.com/masters-degrees/filters/msc-degrees/united-kingdom/on-campus/full-time/?4jw9Y3hw&Keywords=data&PG=53', 'https://www.findamasters.com/masters-degrees/filters/msc-degrees/united-kingdom/on-campus/full-time/?4jw9Y3hw&Keywords=data&PG=54', 'https://www.findamasters.com/masters-degrees/filters/msc-degrees/united-kingdom/on-campus/full-time/?4jw9Y3hw&Keywords=data&PG=55', 'https://www.findamasters.com/masters-degrees/filters/msc-degrees/united-kingdom/on-campus/full-time/?4jw9Y3hw&Keywords=data&PG=56', 'https://www.findamasters.com/masters-degrees/filters/msc-degrees/united-kingdom/on-campus/full-time/?4jw9Y3hw&Keywords=data&PG=57', 'https://www.findamasters.com/masters-degrees/filters/msc-degrees/united-kingdom/on-campus/full-time/?4jw9Y3hw&Keywords=data&PG=58', 'https://www.findamasters.com/masters-degrees/filters/msc-degrees/united-kingdom/on-campus/full-time/?4jw9Y3hw&Keywords=data&PG=59', 'https://www.findamasters.com/masters-degrees/filters/msc-degrees/united-kingdom/on-campus/full-time/?4jw9Y3hw&Keywords=data&PG=60', 'https://www.findamasters.com/masters-degrees/filters/msc-degrees/united-kingdom/on-campus/full-time/?4jw9Y3hw&Keywords=data&PG=61', 'https://www.findamasters.com/masters-degrees/filters/msc-degrees/united-kingdom/on-campus/full-time/?4jw9Y3hw&Keywords=data&PG=62', 'https://www.findamasters.com/masters-degrees/filters/msc-degrees/united-kingdom/on-campus/full-time/?4jw9Y3hw&Keywords=data&PG=63', 'https://www.findamasters.com/masters-degrees/filters/msc-degrees/united-kingdom/on-campus/full-time/?4jw9Y3hw&Keywords=data&PG=64', 'https://www.findamasters.com/masters-degrees/filters/msc-degrees/united-kingdom/on-campus/full-time/?4jw9Y3hw&Keywords=data&PG=65', 'https://www.findamasters.com/masters-degrees/filters/msc-degrees/united-kingdom/on-campus/full-time/?4jw9Y3hw&Keywords=data&PG=66', 'https://www.findamasters.com/masters-degrees/filters/msc-degrees/united-kingdom/on-campus/full-time/?4jw9Y3hw&Keywords=data&PG=67', 'https://www.findamasters.com/masters-degrees/filters/msc-degrees/united-kingdom/on-campus/full-time/?4jw9Y3hw&Keywords=data&PG=68', 'https://www.findamasters.com/masters-degrees/filters/msc-degrees/united-kingdom/on-campus/full-time/?4jw9Y3hw&Keywords=data&PG=69', 'https://www.findamasters.com/masters-degrees/filters/msc-degrees/united-kingdom/on-campus/full-time/?4jw9Y3hw&Keywords=data&PG=70', 'https://www.findamasters.com/masters-degrees/filters/msc-degrees/united-kingdom/on-campus/full-time/?4jw9Y3hw&Keywords=data&PG=71']\n"
     ]
    }
   ],
   "source": [
    "allPageURLs = [page]\n",
    "\n",
    "for i in range(2, lastPage+1):\n",
    "    temp = 'https://www.findamasters.com/masters-degrees/filters/msc-degrees/united-kingdom/on-campus/full-time/?4jw9Y3hw&Keywords=data' + '&PG=' + str(i)\n",
    "    allPageURLs.append(temp)\n",
    "print(allPageURLs)"
   ]
  },
  {
   "cell_type": "code",
   "execution_count": 7,
   "metadata": {},
   "outputs": [
    {
     "name": "stderr",
     "output_type": "stream",
     "text": [
      "2024-04-28 18:46:13 [scrapy.utils.log] INFO: Scrapy 2.11.1 started (bot: scrapybot)\n",
      "2024-04-28 18:46:13 [scrapy.utils.log] INFO: Versions: lxml 5.2.1.0, libxml2 2.11.7, cssselect 1.2.0, parsel 1.9.1, w3lib 2.1.2, Twisted 24.3.0, Python 3.12.3 (tags/v3.12.3:f6650f9, Apr  9 2024, 14:05:25) [MSC v.1938 64 bit (AMD64)], pyOpenSSL 24.1.0 (OpenSSL 3.2.1 30 Jan 2024), cryptography 42.0.5, Platform Windows-11-10.0.22631-SP0\n",
      "2024-04-28 18:46:13 [scrapy.addons] INFO: Enabled addons:\n",
      "[]\n",
      "2024-04-28 18:46:13 [scrapy.utils.log] DEBUG: Using reactor: twisted.internet.selectreactor.SelectReactor\n",
      "2024-04-28 18:46:13 [scrapy.extensions.telnet] INFO: Telnet Password: ca71d657eba6975f\n",
      "2024-04-28 18:46:13 [scrapy.middleware] INFO: Enabled extensions:\n",
      "['scrapy.extensions.corestats.CoreStats',\n",
      " 'scrapy.extensions.telnet.TelnetConsole',\n",
      " 'scrapy.extensions.logstats.LogStats',\n",
      " 'scrapy.extensions.throttle.AutoThrottle']\n",
      "2024-04-28 18:46:13 [scrapy.crawler] INFO: Overridden settings:\n",
      "{'AUTOTHROTTLE_ENABLED': True, 'DOWNLOAD_DELAY': 5}\n",
      "2024-04-28 18:46:13 [scrapy.middleware] INFO: Enabled downloader middlewares:\n",
      "['scrapy.downloadermiddlewares.httpauth.HttpAuthMiddleware',\n",
      " 'scrapy.downloadermiddlewares.downloadtimeout.DownloadTimeoutMiddleware',\n",
      " 'scrapy.downloadermiddlewares.defaultheaders.DefaultHeadersMiddleware',\n",
      " 'scrapy.downloadermiddlewares.useragent.UserAgentMiddleware',\n",
      " 'scrapy.downloadermiddlewares.retry.RetryMiddleware',\n",
      " 'scrapy.downloadermiddlewares.redirect.MetaRefreshMiddleware',\n",
      " 'scrapy.downloadermiddlewares.httpcompression.HttpCompressionMiddleware',\n",
      " 'scrapy.downloadermiddlewares.redirect.RedirectMiddleware',\n",
      " 'scrapy.downloadermiddlewares.cookies.CookiesMiddleware',\n",
      " 'scrapy.downloadermiddlewares.httpproxy.HttpProxyMiddleware',\n",
      " 'scrapy.downloadermiddlewares.stats.DownloaderStats']\n",
      "2024-04-28 18:46:13 [scrapy.middleware] INFO: Enabled spider middlewares:\n",
      "['scrapy.spidermiddlewares.httperror.HttpErrorMiddleware',\n",
      " 'scrapy.spidermiddlewares.offsite.OffsiteMiddleware',\n",
      " 'scrapy.spidermiddlewares.referer.RefererMiddleware',\n",
      " 'scrapy.spidermiddlewares.urllength.UrlLengthMiddleware',\n",
      " 'scrapy.spidermiddlewares.depth.DepthMiddleware']\n",
      "2024-04-28 18:46:13 [scrapy.middleware] INFO: Enabled item pipelines:\n",
      "[]\n",
      "2024-04-28 18:46:13 [scrapy.core.engine] INFO: Spider opened\n",
      "2024-04-28 18:46:13 [scrapy.extensions.logstats] INFO: Crawled 0 pages (at 0 pages/min), scraped 0 items (at 0 items/min)\n",
      "2024-04-28 18:46:13 [scrapy.extensions.telnet] INFO: Telnet console listening on 127.0.0.1:6025\n"
     ]
    },
    {
     "ename": "ReactorNotRestartable",
     "evalue": "",
     "output_type": "error",
     "traceback": [
      "\u001b[1;31m---------------------------------------------------------------------------\u001b[0m",
      "\u001b[1;31mReactorNotRestartable\u001b[0m                     Traceback (most recent call last)",
      "Cell \u001b[1;32mIn[7], line 43\u001b[0m\n\u001b[0;32m     41\u001b[0m process \u001b[38;5;241m=\u001b[39m CrawlerProcess()\n\u001b[0;32m     42\u001b[0m process\u001b[38;5;241m.\u001b[39mcrawl(GAM_Spider)\n\u001b[1;32m---> 43\u001b[0m \u001b[43mprocess\u001b[49m\u001b[38;5;241;43m.\u001b[39;49m\u001b[43mstart\u001b[49m\u001b[43m(\u001b[49m\u001b[43m)\u001b[49m\n",
      "File \u001b[1;32mc:\\Users\\Sylwi\\WebScraping2\\.venv\\Lib\\site-packages\\scrapy\\crawler.py:429\u001b[0m, in \u001b[0;36mCrawlerProcess.start\u001b[1;34m(self, stop_after_crawl, install_signal_handlers)\u001b[0m\n\u001b[0;32m    425\u001b[0m \u001b[38;5;28;01mif\u001b[39;00m install_signal_handlers:\n\u001b[0;32m    426\u001b[0m     reactor\u001b[38;5;241m.\u001b[39maddSystemEventTrigger(\n\u001b[0;32m    427\u001b[0m         \u001b[38;5;124m\"\u001b[39m\u001b[38;5;124mafter\u001b[39m\u001b[38;5;124m\"\u001b[39m, \u001b[38;5;124m\"\u001b[39m\u001b[38;5;124mstartup\u001b[39m\u001b[38;5;124m\"\u001b[39m, install_shutdown_handlers, \u001b[38;5;28mself\u001b[39m\u001b[38;5;241m.\u001b[39m_signal_shutdown\n\u001b[0;32m    428\u001b[0m     )\n\u001b[1;32m--> 429\u001b[0m \u001b[43mreactor\u001b[49m\u001b[38;5;241;43m.\u001b[39;49m\u001b[43mrun\u001b[49m\u001b[43m(\u001b[49m\u001b[43minstallSignalHandlers\u001b[49m\u001b[38;5;241;43m=\u001b[39;49m\u001b[43minstall_signal_handlers\u001b[49m\u001b[43m)\u001b[49m\n",
      "File \u001b[1;32mc:\\Users\\Sylwi\\WebScraping2\\.venv\\Lib\\site-packages\\twisted\\internet\\base.py:693\u001b[0m, in \u001b[0;36mReactorBase.run\u001b[1;34m(self, installSignalHandlers)\u001b[0m\n\u001b[0;32m    692\u001b[0m \u001b[38;5;28;01mdef\u001b[39;00m \u001b[38;5;21mrun\u001b[39m(\u001b[38;5;28mself\u001b[39m, installSignalHandlers: \u001b[38;5;28mbool\u001b[39m \u001b[38;5;241m=\u001b[39m \u001b[38;5;28;01mTrue\u001b[39;00m) \u001b[38;5;241m-\u001b[39m\u001b[38;5;241m>\u001b[39m \u001b[38;5;28;01mNone\u001b[39;00m:\n\u001b[1;32m--> 693\u001b[0m     \u001b[38;5;28;43mself\u001b[39;49m\u001b[38;5;241;43m.\u001b[39;49m\u001b[43mstartRunning\u001b[49m\u001b[43m(\u001b[49m\u001b[43minstallSignalHandlers\u001b[49m\u001b[38;5;241;43m=\u001b[39;49m\u001b[43minstallSignalHandlers\u001b[49m\u001b[43m)\u001b[49m\n\u001b[0;32m    694\u001b[0m     \u001b[38;5;28;01mtry\u001b[39;00m:\n\u001b[0;32m    695\u001b[0m         \u001b[38;5;28mself\u001b[39m\u001b[38;5;241m.\u001b[39mmainLoop()\n",
      "File \u001b[1;32mc:\\Users\\Sylwi\\WebScraping2\\.venv\\Lib\\site-packages\\twisted\\internet\\base.py:930\u001b[0m, in \u001b[0;36mReactorBase.startRunning\u001b[1;34m(self, installSignalHandlers)\u001b[0m\n\u001b[0;32m    928\u001b[0m     \u001b[38;5;28;01mraise\u001b[39;00m error\u001b[38;5;241m.\u001b[39mReactorAlreadyRunning()\n\u001b[0;32m    929\u001b[0m \u001b[38;5;28;01mif\u001b[39;00m \u001b[38;5;28mself\u001b[39m\u001b[38;5;241m.\u001b[39m_startedBefore:\n\u001b[1;32m--> 930\u001b[0m     \u001b[38;5;28;01mraise\u001b[39;00m error\u001b[38;5;241m.\u001b[39mReactorNotRestartable()\n\u001b[0;32m    932\u001b[0m \u001b[38;5;28mself\u001b[39m\u001b[38;5;241m.\u001b[39m_signals\u001b[38;5;241m.\u001b[39muninstall()\n\u001b[0;32m    933\u001b[0m \u001b[38;5;28mself\u001b[39m\u001b[38;5;241m.\u001b[39m_installSignalHandlers \u001b[38;5;241m=\u001b[39m installSignalHandlers\n",
      "\u001b[1;31mReactorNotRestartable\u001b[0m: "
     ]
    }
   ],
   "source": [
    "tempPageURLs = ['https://www.findamasters.com/masters-degrees/filters/msc-degrees/united-kingdom/on-campus/full-time/?4jw9Y3hw&Keywords=data','https://www.findamasters.com/masters-degrees/filters/msc-degrees/united-kingdom/on-campus/full-time/?4jw9Y3hw&Keywords=data&PG=71']\n",
    "# tempPageURLs = ['https://www.findamasters.com/masters-degrees/filters/msc-degrees/united-kingdom/on-campus/full-time/?4jw9Y3hw&Keywords=data&PG=71']\n",
    "file = 'testing53.csv'\n",
    "with open(file, 'w', newline='') as f:\n",
    "            w = csv.writer(f)\n",
    "            w.writerow([\"Course\",\"University\",\"Department\", \"Entry Requirements\", \"URL\"])\n",
    "\n",
    "class GAM_Spider(scrapy.Spider):\n",
    "    name=\"GAM_spider\"\n",
    "\n",
    "    custom_settings = {\n",
    "        'DOWNLOAD_DELAY': 5\n",
    "         ,'AUTOTHROTTLE_ENABLED': True,\n",
    "         'AUTOTHROTTLE_TARGET_CONCURRENCY': 1\n",
    "    }\n",
    "\n",
    "    def start_requests(self):\n",
    "        urls = tempPageURLs\n",
    "        for url in urls:\n",
    "            yield scrapy.Request(url = url, callback = self.parse)\n",
    "\n",
    "    def parse(self, response):\n",
    "        courseURLs = response.css('a.courseLink::attr(href)').getall()\n",
    "        print(courseURLs)\n",
    "        for i in courseURLs:\n",
    "            temp = 'https://www.findamasters.com' + i\n",
    "            yield response.follow(url=temp, callback=self.parse_url)\n",
    "    \n",
    "    def parse_url(self, response):\n",
    "        courseNames = response.css('h1.course-header__course-title::attr(data-permutive-title)').getall()\n",
    "        uniNames = response.css('a.course-header__institution::text').getall()\n",
    "        deptNames = response.css('a.course-header__department::text').getall()\n",
    "        entryReqs = response.css('div.course-sections__entry-requirements>div>p::text').getall()\n",
    "        actualURL = 'https://www.findamasters.com' + sel.css('div.course-sidebar__buttons > a')[0].css('::attr(href)').getall()[0]\n",
    "        with open(file, 'a', newline='') as f:\n",
    "            w = csv.writer(f)\n",
    "            for i in range(len(courseNames)):\n",
    "                headers = [courseNames, uniNames, deptNames, entryReqs, actualURL] # Could add: url to actual course site\n",
    "                w.writerow(headers)\n",
    "\n",
    "process = CrawlerProcess()\n",
    "process.crawl(GAM_Spider)\n",
    "process.start()"
   ]
  },
  {
   "cell_type": "code",
   "execution_count": null,
   "metadata": {},
   "outputs": [],
   "source": [
    "# Not using a spider just requests each time\n",
    "\n",
    "tempPageURLs = ['https://www.findamasters.com/masters-degrees/filters/msc-degrees/united-kingdom/on-campus/full-time/?4jw9Y3hw&Keywords=data','https://www.findamasters.com/masters-degrees/filters/msc-degrees/united-kingdom/on-campus/full-time/?4jw9Y3hw&Keywords=data&PG=71']\n",
    "\n",
    "file = 'testing43.csv'\n",
    "with open(file, 'w', newline='') as f:\n",
    "            w = csv.writer(f)\n",
    "            w.writerow([\"Course\",\"University\",\"Department\", \"URL\"])\n",
    "\n",
    "for url in tempPageURLs: #Remember to change this after done this testing\n",
    "    pageContent = requests.get(url).content\n",
    "    sel1 = Selector(text = pageContent)\n",
    "    courseURLs = sel1.css('a.courseLink::attr(href)').getall()\n",
    "    print(courseURLs)\n",
    "    for c in courseURLs:\n",
    "        temp = 'https://www.findamasters.com' + c\n",
    "        print(temp)\n",
    "        coursePage = requests.get(temp).content\n",
    "        sel2 = Selector(text = coursePage)\n",
    "        courseNames = sel2.css('h1.course-header__course-title::attr(data-permutive-title)').getall()\n",
    "        uniNames = sel2.css('a.course-header__institution::text').getall()\n",
    "        deptNames = sel2.css('a.course-header__department::text').getall()\n",
    "        entryReqs = sel2.css('div.course-sections__entry-requirements>div>p::text').getall()\n",
    "        with open(file, 'a', newline='') as f:\n",
    "            w = csv.writer(f)\n",
    "            headers = [courseNames, uniNames, deptNames, entryReqs] # Could add: url to actual course site\n",
    "            w.writerow(headers)"
   ]
  }
 ],
 "metadata": {
  "kernelspec": {
   "display_name": ".venv",
   "language": "python",
   "name": "python3"
  },
  "language_info": {
   "codemirror_mode": {
    "name": "ipython",
    "version": 3
   },
   "file_extension": ".py",
   "mimetype": "text/x-python",
   "name": "python",
   "nbconvert_exporter": "python",
   "pygments_lexer": "ipython3",
   "version": "3.12.3"
  }
 },
 "nbformat": 4,
 "nbformat_minor": 2
}
